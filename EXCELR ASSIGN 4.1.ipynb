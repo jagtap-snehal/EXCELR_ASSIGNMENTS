{
 "cells": [
  {
   "cell_type": "markdown",
   "id": "53297d86",
   "metadata": {},
   "source": [
    "# Name : Snehal shyam Jagtap\n"
   ]
  },
  {
   "cell_type": "markdown",
   "id": "0fc2e122",
   "metadata": {},
   "source": [
    "## CHI-SQUARE TEST"
   ]
  },
  {
   "cell_type": "markdown",
   "id": "40ab9d37",
   "metadata": {},
   "source": [
    "## Step 1: State the Hypotheses"
   ]
  },
  {
   "cell_type": "markdown",
   "id": "95a0a7a6",
   "metadata": {},
   "source": [
    "\n",
    "Null Hypothesis (H₀): There is no significant association between the type of device purchased and the customer satisfaction level. The variables are independent.\n",
    "\n",
    "Alternative Hypothesis (H₁): There is a significant association between the type of device purchased and the customer satisfaction level. The variables are dependent."
   ]
  },
  {
   "cell_type": "markdown",
   "id": "93fc5c9c",
   "metadata": {},
   "source": [
    "## Step 2: Compute the Chi-Square Statistic"
   ]
  },
  {
   "cell_type": "code",
   "execution_count": 5,
   "id": "d3b14e61",
   "metadata": {},
   "outputs": [],
   "source": [
    "import numpy as np\n",
    "from scipy.stats import chi2_contingency, chi2"
   ]
  },
  {
   "cell_type": "code",
   "execution_count": 6,
   "id": "adf2d494",
   "metadata": {},
   "outputs": [],
   "source": [
    "# Data from the contingency table\n",
    "data = np.array([\n",
    "    [50, 70],  # Very Satisfied\n",
    "    [80, 100], # Satisfied\n",
    "    [60, 90],  # Neutral\n",
    "    [30, 50],  # Unsatisfied\n",
    "    [20, 50]   # Very Unsatisfied\n",
    "])"
   ]
  },
  {
   "cell_type": "code",
   "execution_count": 7,
   "id": "edd5297d",
   "metadata": {},
   "outputs": [],
   "source": [
    "# Perform Chi-Square test\n",
    "chi2_stat, p_value, dof, expected = chi2_contingency(data)"
   ]
  },
  {
   "cell_type": "code",
   "execution_count": 8,
   "id": "68369ae1",
   "metadata": {},
   "outputs": [
    {
     "name": "stdout",
     "output_type": "stream",
     "text": [
      "Chi-Square Statistic: 5.64\n",
      "P-Value: 0.2278\n",
      "Degrees of Freedom: 4\n",
      "Expected Frequencies Table:\n",
      "[[ 48.  72.]\n",
      " [ 72. 108.]\n",
      " [ 60.  90.]\n",
      " [ 32.  48.]\n",
      " [ 28.  42.]]\n"
     ]
    }
   ],
   "source": [
    "# Output results\n",
    "print(f\"Chi-Square Statistic: {chi2_stat:.2f}\")\n",
    "print(f\"P-Value: {p_value:.4f}\")\n",
    "print(f\"Degrees of Freedom: {dof}\")\n",
    "print(f\"Expected Frequencies Table:\\n{expected}\")"
   ]
  },
  {
   "cell_type": "markdown",
   "id": "b335b2b9",
   "metadata": {},
   "source": [
    "## Step 3: Determine the Critical Value"
   ]
  },
  {
   "cell_type": "code",
   "execution_count": 9,
   "id": "2f6e7393",
   "metadata": {},
   "outputs": [
    {
     "name": "stdout",
     "output_type": "stream",
     "text": [
      "Critical Value: 9.49\n"
     ]
    }
   ],
   "source": [
    "from scipy.stats import chi2\n",
    "\n",
    "alpha = 0.05\n",
    "critical_value = chi2.ppf(1 - alpha, dof)\n",
    "print(f\"Critical Value: {critical_value:.2f}\")\n"
   ]
  },
  {
   "cell_type": "markdown",
   "id": "9b521152",
   "metadata": {},
   "source": [
    "## Step 4: Make a Decision"
   ]
  },
  {
   "cell_type": "code",
   "execution_count": 11,
   "id": "c6faf9b0",
   "metadata": {},
   "outputs": [
    {
     "name": "stdout",
     "output_type": "stream",
     "text": [
      "Fail to reject the null hypothesis. There is no significant association between device type and customer satisfaction level.\n"
     ]
    }
   ],
   "source": [
    "# Make a decision\n",
    "if chi2_stat > critical_value:\n",
    "    print(\"Reject the null hypothesis. There is a significant association between device type and customer satisfaction level.\")\n",
    "else:\n",
    "    print(\"Fail to reject the null hypothesis. There is no significant association between device type and customer satisfaction level.\")\n"
   ]
  },
  {
   "cell_type": "code",
   "execution_count": null,
   "id": "b7415954",
   "metadata": {},
   "outputs": [],
   "source": []
  }
 ],
 "metadata": {
  "kernelspec": {
   "display_name": "Python 3 (ipykernel)",
   "language": "python",
   "name": "python3"
  },
  "language_info": {
   "codemirror_mode": {
    "name": "ipython",
    "version": 3
   },
   "file_extension": ".py",
   "mimetype": "text/x-python",
   "name": "python",
   "nbconvert_exporter": "python",
   "pygments_lexer": "ipython3",
   "version": "3.10.9"
  }
 },
 "nbformat": 4,
 "nbformat_minor": 5
}
