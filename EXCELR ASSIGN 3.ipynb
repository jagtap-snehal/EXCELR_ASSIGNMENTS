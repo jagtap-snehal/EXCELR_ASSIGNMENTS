{
 "cells": [
  {
   "cell_type": "markdown",
   "id": "7201e61e",
   "metadata": {},
   "source": [
    "# Name : Snehal shyam Jagtap\n"
   ]
  },
  {
   "cell_type": "markdown",
   "id": "ab9ca583",
   "metadata": {},
   "source": [
    "## PYTHON PROGRAMMING ASSIGNMENT"
   ]
  },
  {
   "cell_type": "markdown",
   "id": "1ed7ddfa",
   "metadata": {},
   "source": [
    "#### Exercise 1: Prime Numbers\n",
    "Write a Python program that checks whether a given number is prime or not. A prime number is a natural number greater than 1 that has no positive divisors other than 1 and itself.\n"
   ]
  },
  {
   "cell_type": "code",
   "execution_count": 6,
   "id": "c4001e4b",
   "metadata": {},
   "outputs": [
    {
     "name": "stdout",
     "output_type": "stream",
     "text": [
      "Enter a number to check if it's prime: 5\n",
      "5 is a prime number.\n"
     ]
    }
   ],
   "source": [
    "def is_prime(number):\n",
    "    # Numbers less than or equal to 1 are not prime\n",
    "    if number <= 1:\n",
    "        return False\n",
    "    # 2 is the only even prime number\n",
    "    if number == 2:\n",
    "        return True\n",
    "    # Eliminate even numbers greater than 2\n",
    "    if number % 2 == 0:\n",
    "        return False\n",
    "    # Check divisibility from 3 to sqrt(number), incrementing by 2 (only odd numbers)\n",
    "    for i in range(3, int(number**0.5) + 1, 2):\n",
    "        if number % i == 0:\n",
    "            return False\n",
    "    return True\n",
    "\n",
    "# Example usage\n",
    "num = int(input(\"Enter a number to check if it's prime: \"))\n",
    "\n",
    "# Print whether the number is prime or not\n",
    "if is_prime(num):\n",
    "    print(f\"{num} is a prime number.\")\n",
    "else:\n",
    "    print(f\"{num} is not a prime number.\")\n"
   ]
  },
  {
   "cell_type": "code",
   "execution_count": null,
   "id": "66040dc4",
   "metadata": {},
   "outputs": [],
   "source": []
  },
  {
   "cell_type": "markdown",
   "id": "69cc43d1",
   "metadata": {},
   "source": [
    "#### Exercise 2: Product of Random Numbers\n",
    "Develop a Python program that generates two random numbers and asks the user to enter the product of these numbers. The program should then check if the user's answer is correct and display an appropriate message.\n"
   ]
  },
  {
   "cell_type": "code",
   "execution_count": 10,
   "id": "be28384b",
   "metadata": {},
   "outputs": [
    {
     "name": "stdout",
     "output_type": "stream",
     "text": [
      "Random numbers: 10 and 5\n",
      "Enter the product of the two numbers: 50\n",
      "Correct! Well done.\n"
     ]
    }
   ],
   "source": [
    "import random\n",
    "\n",
    "def check_product():\n",
    "    \"\"\"\n",
    "    Generate two random numbers, prompt the user to enter their product,\n",
    "    and check if the user's answer is correct.\n",
    "    \"\"\"\n",
    "    # Generate two random numbers between 1 and 10\n",
    "    num1 = random.randint(1, 10)\n",
    "    num2 = random.randint(1, 10)\n",
    "    correct_product = num1 * num2\n",
    "\n",
    "    print(f\"Random numbers: {num1} and {num2}\")\n",
    "    \n",
    "    # Prompt user for the product and handle invalid inputs\n",
    "    while True:\n",
    "        try:\n",
    "            user_answer = int(input(\"Enter the product of the two numbers: \"))\n",
    "            break\n",
    "        except ValueError:\n",
    "            print(\"Invalid input. Please enter a valid integer.\")\n",
    "    \n",
    "    # Check if the user's answer is correct\n",
    "    if user_answer == correct_product:\n",
    "        print(\"Correct! Well done.\")\n",
    "    else:\n",
    "        print(f\"Incorrect. The correct product is {correct_product}.\")\n",
    "\n",
    "# Call the function to run the check\n",
    "check_product()\n"
   ]
  },
  {
   "cell_type": "code",
   "execution_count": null,
   "id": "30dbf290",
   "metadata": {},
   "outputs": [],
   "source": []
  },
  {
   "cell_type": "markdown",
   "id": "2dc2555f",
   "metadata": {},
   "source": [
    "#### Exercise 3: Squares of Even/Odd Numbers\n",
    "Create a Python script that prints the squares of all even or odd numbers within the range of 100 to 200. Choose either even or odd numbers and document your choice in the code.\n"
   ]
  },
  {
   "cell_type": "code",
   "execution_count": 11,
   "id": "c7f9df89",
   "metadata": {},
   "outputs": [
    {
     "name": "stdout",
     "output_type": "stream",
     "text": [
      "Square of 100: 10000\n",
      "Square of 102: 10404\n",
      "Square of 104: 10816\n",
      "Square of 106: 11236\n",
      "Square of 108: 11664\n",
      "Square of 110: 12100\n",
      "Square of 112: 12544\n",
      "Square of 114: 12996\n",
      "Square of 116: 13456\n",
      "Square of 118: 13924\n",
      "Square of 120: 14400\n",
      "Square of 122: 14884\n",
      "Square of 124: 15376\n",
      "Square of 126: 15876\n",
      "Square of 128: 16384\n",
      "Square of 130: 16900\n",
      "Square of 132: 17424\n",
      "Square of 134: 17956\n",
      "Square of 136: 18496\n",
      "Square of 138: 19044\n",
      "Square of 140: 19600\n",
      "Square of 142: 20164\n",
      "Square of 144: 20736\n",
      "Square of 146: 21316\n",
      "Square of 148: 21904\n",
      "Square of 150: 22500\n",
      "Square of 152: 23104\n",
      "Square of 154: 23716\n",
      "Square of 156: 24336\n",
      "Square of 158: 24964\n",
      "Square of 160: 25600\n",
      "Square of 162: 26244\n",
      "Square of 164: 26896\n",
      "Square of 166: 27556\n",
      "Square of 168: 28224\n",
      "Square of 170: 28900\n",
      "Square of 172: 29584\n",
      "Square of 174: 30276\n",
      "Square of 176: 30976\n",
      "Square of 178: 31684\n",
      "Square of 180: 32400\n",
      "Square of 182: 33124\n",
      "Square of 184: 33856\n",
      "Square of 186: 34596\n",
      "Square of 188: 35344\n",
      "Square of 190: 36100\n",
      "Square of 192: 36864\n",
      "Square of 194: 37636\n",
      "Square of 196: 38416\n",
      "Square of 198: 39204\n",
      "Square of 200: 40000\n"
     ]
    }
   ],
   "source": [
    "def print_squares_of_even():\n",
    "    for num in range(100, 201):\n",
    "        if num % 2 == 0:\n",
    "            print(f\"Square of {num}: {num ** 2}\")\n",
    "\n",
    "print_squares_of_even()\n"
   ]
  },
  {
   "cell_type": "code",
   "execution_count": null,
   "id": "988be446",
   "metadata": {},
   "outputs": [],
   "source": []
  },
  {
   "cell_type": "markdown",
   "id": "ad9495dc",
   "metadata": {},
   "source": [
    "#### Exercise 4: Word counter"
   ]
  },
  {
   "cell_type": "code",
   "execution_count": 14,
   "id": "a27622ef",
   "metadata": {},
   "outputs": [
    {
     "name": "stdout",
     "output_type": "stream",
     "text": [
      "'this': 2\n",
      "'is': 1\n",
      "'a': 1\n",
      "'sample': 1\n",
      "'text': 2\n",
      "'will': 1\n",
      "'be': 1\n",
      "'used': 1\n",
      "'to': 1\n",
      "'demonstrate': 1\n",
      "'the': 1\n",
      "'word': 1\n",
      "'counter': 1\n"
     ]
    }
   ],
   "source": [
    "from collections import Counter\n",
    "import re\n",
    "\n",
    "def word_counter(input_text):\n",
    "    words = re.findall(r'\\b\\w+\\b', input_text.lower())  # Extract words and convert to lowercase\n",
    "    word_counts = Counter(words)\n",
    "    \n",
    "    for word, count in word_counts.items():\n",
    "        print(f\"'{word}': {count}\")\n",
    "\n",
    "# Example usage\n",
    "text = \"This is a sample text. This text will be used to demonstrate the word counter.\"\n",
    "word_counter(text)\n"
   ]
  },
  {
   "cell_type": "code",
   "execution_count": null,
   "id": "7a8618bf",
   "metadata": {},
   "outputs": [],
   "source": []
  },
  {
   "cell_type": "markdown",
   "id": "3d6c4b44",
   "metadata": {},
   "source": [
    "#### Exercise 5: Check for Palindrome"
   ]
  },
  {
   "cell_type": "code",
   "execution_count": 15,
   "id": "f75de480",
   "metadata": {},
   "outputs": [
    {
     "name": "stdout",
     "output_type": "stream",
     "text": [
      "Enter a string to check if it's a palindrome: racecar\n",
      "The string is a palindrome.\n"
     ]
    }
   ],
   "source": [
    "import re\n",
    "\n",
    "def is_palindrome(s):\n",
    "   \n",
    "    s = re.sub(r'[^a-zA-Z0-9]', '', s).lower()  # Remove non-alphanumeric characters and convert to lowercase\n",
    "    return s == s[::-1]  # Check if the string reads the same forwards and backwards\n",
    "\n",
    "# Example usage\n",
    "string = input(\"Enter a string to check if it's a palindrome: \")\n",
    "if is_palindrome(string):\n",
    "    print(\"The string is a palindrome.\")\n",
    "else:\n",
    "    print(\"The string is not a palindrome.\")\n"
   ]
  },
  {
   "cell_type": "code",
   "execution_count": null,
   "id": "e250e416",
   "metadata": {},
   "outputs": [],
   "source": []
  },
  {
   "cell_type": "code",
   "execution_count": null,
   "id": "299b70b2",
   "metadata": {},
   "outputs": [],
   "source": []
  },
  {
   "cell_type": "code",
   "execution_count": null,
   "id": "85cfeb4b",
   "metadata": {},
   "outputs": [],
   "source": []
  },
  {
   "cell_type": "code",
   "execution_count": null,
   "id": "6f2df4d1",
   "metadata": {},
   "outputs": [],
   "source": []
  }
 ],
 "metadata": {
  "kernelspec": {
   "display_name": "Python 3 (ipykernel)",
   "language": "python",
   "name": "python3"
  },
  "language_info": {
   "codemirror_mode": {
    "name": "ipython",
    "version": 3
   },
   "file_extension": ".py",
   "mimetype": "text/x-python",
   "name": "python",
   "nbconvert_exporter": "python",
   "pygments_lexer": "ipython3",
   "version": "3.10.9"
  }
 },
 "nbformat": 4,
 "nbformat_minor": 5
}
