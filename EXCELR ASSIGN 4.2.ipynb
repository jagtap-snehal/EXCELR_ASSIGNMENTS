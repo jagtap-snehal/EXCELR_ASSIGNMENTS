{
 "cells": [
  {
   "cell_type": "markdown",
   "id": "5a8f6d26",
   "metadata": {},
   "source": [
    "# Name : Snehal shyam Jagtap\n"
   ]
  },
  {
   "cell_type": "markdown",
   "id": "c408a132",
   "metadata": {},
   "source": [
    "# HYPOTHESIS TESTING"
   ]
  },
  {
   "cell_type": "code",
   "execution_count": 14,
   "id": "85967335",
   "metadata": {},
   "outputs": [],
   "source": [
    "import numpy as np\n",
    "from scipy.stats import norm"
   ]
  },
  {
   "cell_type": "code",
   "execution_count": 15,
   "id": "d46816b2",
   "metadata": {},
   "outputs": [],
   "source": [
    "# Given data\n",
    "sample_mean = 3050  # Sample mean weekly cost (Rs. 3,050)\n",
    "\n",
    "X = 600  # Number of units produced in a week\n",
    "\n",
    "theoretical_mean = 1000 + 5 * X  # Theoretical mean weekly cost according to the cost model\n",
    "\n",
    "sigma = 5 * 25  # Standard deviation of weekly operating costs\n",
    "\n",
    "n = 25  # Sample size\n"
   ]
  },
  {
   "cell_type": "markdown",
   "id": "4fe45fc7",
   "metadata": {},
   "source": [
    "# Step 1: State the Hypotheses\n"
   ]
  },
  {
   "cell_type": "markdown",
   "id": "c1b0933f",
   "metadata": {},
   "source": [
    "### Null Hypothesis (H0): The weekly operating cost is as per the theoretical model, W = $1,000 + $5X\n",
    "### Alternative Hypothesis (H1): The weekly operating cost is higher than the theoretical model"
   ]
  },
  {
   "cell_type": "markdown",
   "id": "28d80bd9",
   "metadata": {},
   "source": [
    "# Step 2: Calculate the Test Statistic (t)\n",
    "\n"
   ]
  },
  {
   "cell_type": "code",
   "execution_count": 16,
   "id": "19db9aab",
   "metadata": {},
   "outputs": [],
   "source": [
    "# Formula: t = (sample_mean - theoretical_mean) / (sigma / sqrt(n))\n",
    "t_statistic = (sample_mean - theoretical_mean) / (sigma / np.sqrt(n))"
   ]
  },
  {
   "cell_type": "code",
   "execution_count": 17,
   "id": "59e8b2a7",
   "metadata": {},
   "outputs": [
    {
     "name": "stdout",
     "output_type": "stream",
     "text": [
      "Test Statistic (t): -38.00\n"
     ]
    }
   ],
   "source": [
    "# Output the Test Statistic\n",
    "print(f\"Test Statistic (t): {t_statistic:.2f}\")"
   ]
  },
  {
   "cell_type": "markdown",
   "id": "25c666dd",
   "metadata": {},
   "source": [
    "# Step 3: Determine the Critical Value\n",
    "\n"
   ]
  },
  {
   "cell_type": "code",
   "execution_count": 18,
   "id": "5e2a473e",
   "metadata": {},
   "outputs": [],
   "source": [
    "alpha = 0.05\n",
    "critical_value = norm.ppf(1 - alpha)  # Critical value for a one-tailed test"
   ]
  },
  {
   "cell_type": "code",
   "execution_count": 19,
   "id": "20fd8a8b",
   "metadata": {},
   "outputs": [
    {
     "name": "stdout",
     "output_type": "stream",
     "text": [
      "Critical Value (Z): 1.64\n"
     ]
    }
   ],
   "source": [
    "# Output the Critical Value\n",
    "print(f\"Critical Value (Z): {critical_value:.2f}\")\n"
   ]
  },
  {
   "cell_type": "markdown",
   "id": "36c349ec",
   "metadata": {},
   "source": [
    "# Step 4: Make a Decision"
   ]
  },
  {
   "cell_type": "code",
   "execution_count": 20,
   "id": "0c884758",
   "metadata": {},
   "outputs": [
    {
     "name": "stdout",
     "output_type": "stream",
     "text": [
      "Fail to reject the null hypothesis. There is not enough evidence to suggest that the weekly operating costs are higher than the model suggests.\n"
     ]
    }
   ],
   "source": [
    "\n",
    "if t_statistic > critical_value:\n",
    "    print(\"Reject the null hypothesis. There is strong evidence that the weekly operating costs are higher than the model suggests.\")\n",
    "else:\n",
    "    print(\"Fail to reject the null hypothesis. There is not enough evidence to suggest that the weekly operating costs are higher than the model suggests.\")\n"
   ]
  },
  {
   "cell_type": "markdown",
   "id": "cf5fdc84",
   "metadata": {},
   "source": [
    "# Step 5: Conclusion\n"
   ]
  },
  {
   "cell_type": "markdown",
   "id": "d57c20b8",
   "metadata": {},
   "source": [
    "Fail to reject the null hypothesis. There is not enough evidence to suggest that the weekly operating costs are higher than the model suggests."
   ]
  },
  {
   "cell_type": "code",
   "execution_count": null,
   "id": "412bb92d",
   "metadata": {},
   "outputs": [],
   "source": []
  }
 ],
 "metadata": {
  "kernelspec": {
   "display_name": "Python 3 (ipykernel)",
   "language": "python",
   "name": "python3"
  },
  "language_info": {
   "codemirror_mode": {
    "name": "ipython",
    "version": 3
   },
   "file_extension": ".py",
   "mimetype": "text/x-python",
   "name": "python",
   "nbconvert_exporter": "python",
   "pygments_lexer": "ipython3",
   "version": "3.10.9"
  }
 },
 "nbformat": 4,
 "nbformat_minor": 5
}
