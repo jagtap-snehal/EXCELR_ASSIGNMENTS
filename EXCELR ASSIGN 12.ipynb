{
 "cells": [
  {
   "cell_type": "markdown",
   "id": "5e601b75",
   "metadata": {},
   "source": [
    "# Name : Snehal shyam jagtap\n",
    "\n",
    "## Assignement No 12\n"
   ]
  },
  {
   "cell_type": "markdown",
   "id": "64ef7789",
   "metadata": {},
   "source": [
    "### DATA PREPROCESSING AND FEATURE ENGINEERING IN MACHINE LEARNING\n",
    "\n",
    "This assignment aims to equip you with practical skills in data preprocessing, feature engineering, and feature selection techniques, which are crucial for building efficient machine learning models. You will work with a provided dataset to apply various techniques such as scaling, encoding, and feature selection methods including isolation forest and PPS score analysis."
   ]
  },
  {
   "cell_type": "markdown",
   "id": "c4e26e32",
   "metadata": {},
   "source": [
    "### Task 1. Data Exploration and Preprocessing"
   ]
  },
  {
   "cell_type": "code",
   "execution_count": 1,
   "id": "c8ab79cd",
   "metadata": {},
   "outputs": [],
   "source": [
    "import pandas as pd\n",
    "from sklearn.preprocessing import StandardScaler, MinMaxScaler\n",
    "from sklearn.impute import SimpleImputer"
   ]
  },
  {
   "cell_type": "code",
   "execution_count": 2,
   "id": "3321f281",
   "metadata": {},
   "outputs": [],
   "source": [
    "# Load the dataset\n",
    "df = pd.read_csv('adult_with_headers.csv')"
   ]
  },
  {
   "cell_type": "code",
   "execution_count": 3,
   "id": "4535a5fb",
   "metadata": {},
   "outputs": [
    {
     "name": "stdout",
     "output_type": "stream",
     "text": [
      "<class 'pandas.core.frame.DataFrame'>\n",
      "RangeIndex: 32561 entries, 0 to 32560\n",
      "Data columns (total 15 columns):\n",
      " #   Column          Non-Null Count  Dtype \n",
      "---  ------          --------------  ----- \n",
      " 0   age             32561 non-null  int64 \n",
      " 1   workclass       32561 non-null  object\n",
      " 2   fnlwgt          32561 non-null  int64 \n",
      " 3   education       32561 non-null  object\n",
      " 4   education_num   32561 non-null  int64 \n",
      " 5   marital_status  32561 non-null  object\n",
      " 6   occupation      32561 non-null  object\n",
      " 7   relationship    32561 non-null  object\n",
      " 8   race            32561 non-null  object\n",
      " 9   sex             32561 non-null  object\n",
      " 10  capital_gain    32561 non-null  int64 \n",
      " 11  capital_loss    32561 non-null  int64 \n",
      " 12  hours_per_week  32561 non-null  int64 \n",
      " 13  native_country  32561 non-null  object\n",
      " 14  income          32561 non-null  object\n",
      "dtypes: int64(6), object(9)\n",
      "memory usage: 3.7+ MB\n",
      "None\n",
      "                age        fnlwgt  education_num  capital_gain  capital_loss  \\\n",
      "count  32561.000000  3.256100e+04   32561.000000  32561.000000  32561.000000   \n",
      "mean      38.581647  1.897784e+05      10.080679   1077.648844     87.303830   \n",
      "std       13.640433  1.055500e+05       2.572720   7385.292085    402.960219   \n",
      "min       17.000000  1.228500e+04       1.000000      0.000000      0.000000   \n",
      "25%       28.000000  1.178270e+05       9.000000      0.000000      0.000000   \n",
      "50%       37.000000  1.783560e+05      10.000000      0.000000      0.000000   \n",
      "75%       48.000000  2.370510e+05      12.000000      0.000000      0.000000   \n",
      "max       90.000000  1.484705e+06      16.000000  99999.000000   4356.000000   \n",
      "\n",
      "       hours_per_week  \n",
      "count    32561.000000  \n",
      "mean        40.437456  \n",
      "std         12.347429  \n",
      "min          1.000000  \n",
      "25%         40.000000  \n",
      "50%         40.000000  \n",
      "75%         45.000000  \n",
      "max         99.000000  \n"
     ]
    }
   ],
   "source": [
    "# Data exploration\n",
    "print(df.info())\n",
    "print(df.describe())"
   ]
  },
  {
   "cell_type": "code",
   "execution_count": 4,
   "id": "5488f0ca",
   "metadata": {},
   "outputs": [
    {
     "name": "stdout",
     "output_type": "stream",
     "text": [
      "age               0\n",
      "workclass         0\n",
      "fnlwgt            0\n",
      "education         0\n",
      "education_num     0\n",
      "marital_status    0\n",
      "occupation        0\n",
      "relationship      0\n",
      "race              0\n",
      "sex               0\n",
      "capital_gain      0\n",
      "capital_loss      0\n",
      "hours_per_week    0\n",
      "native_country    0\n",
      "income            0\n",
      "dtype: int64\n"
     ]
    }
   ],
   "source": [
    "# Check for missing values\n",
    "print(df.isnull().sum())"
   ]
  },
  {
   "cell_type": "code",
   "execution_count": 5,
   "id": "47e6c338",
   "metadata": {},
   "outputs": [],
   "source": [
    "# Handle missing values (example: fill missing with mode for categorical, mean for numerical)\n",
    "num_imputer = SimpleImputer(strategy='mean')\n",
    "cat_imputer = SimpleImputer(strategy='most_frequent')"
   ]
  },
  {
   "cell_type": "code",
   "execution_count": 6,
   "id": "eecc8494",
   "metadata": {},
   "outputs": [],
   "source": [
    "# Apply imputation\n",
    "numerical_columns = df.select_dtypes(include=['int64', 'float64']).columns\n",
    "categorical_columns = df.select_dtypes(include=['object']).columns\n",
    "\n",
    "df[numerical_columns] = num_imputer.fit_transform(df[numerical_columns])\n",
    "df[categorical_columns] = cat_imputer.fit_transform(df[categorical_columns])"
   ]
  },
  {
   "cell_type": "code",
   "execution_count": 7,
   "id": "c1babef2",
   "metadata": {},
   "outputs": [],
   "source": [
    "# Scaling techniques\n",
    "scaler_standard = StandardScaler()\n",
    "scaler_minmax = MinMaxScaler()"
   ]
  },
  {
   "cell_type": "code",
   "execution_count": 8,
   "id": "12b9d4a8",
   "metadata": {},
   "outputs": [],
   "source": [
    "# Standard scaling (useful for normal distributions)\n",
    "df_standard_scaled = pd.DataFrame(scaler_standard.fit_transform(df[numerical_columns]), columns=numerical_columns)"
   ]
  },
  {
   "cell_type": "code",
   "execution_count": 9,
   "id": "0f0fcb4a",
   "metadata": {},
   "outputs": [],
   "source": [
    "# Min-Max scaling (useful for uniform distributions)\n",
    "df_minmax_scaled = pd.DataFrame(scaler_minmax.fit_transform(df[numerical_columns]), columns=numerical_columns)"
   ]
  },
  {
   "cell_type": "markdown",
   "id": "725dbfc0",
   "metadata": {},
   "source": [
    "### Task 2. Encoding Techniques"
   ]
  },
  {
   "cell_type": "code",
   "execution_count": 10,
   "id": "38072fb5",
   "metadata": {},
   "outputs": [],
   "source": [
    "from sklearn.preprocessing import OneHotEncoder, LabelEncoder"
   ]
  },
  {
   "cell_type": "code",
   "execution_count": 11,
   "id": "6b1d319b",
   "metadata": {},
   "outputs": [],
   "source": [
    "# One-Hot Encoding for categorical variables with less than 5 categories\n",
    "one_hot_columns = [col for col in categorical_columns if df[col].nunique() < 5]\n",
    "df_one_hot_encoded = pd.get_dummies(df, columns=one_hot_columns)"
   ]
  },
  {
   "cell_type": "code",
   "execution_count": 12,
   "id": "b664963f",
   "metadata": {},
   "outputs": [],
   "source": [
    "# Label Encoding for categorical variables with more than 5 categories\n",
    "label_columns = [col for col in categorical_columns if df[col].nunique() >= 5]\n",
    "label_encoder = LabelEncoder()\n",
    "\n",
    "for col in label_columns:\n",
    "    df[col] = label_encoder.fit_transform(df[col])"
   ]
  },
  {
   "cell_type": "markdown",
   "id": "441f346d",
   "metadata": {},
   "source": [
    "### Task 3. Feature Engineering"
   ]
  },
  {
   "cell_type": "code",
   "execution_count": 13,
   "id": "6bb4e152",
   "metadata": {},
   "outputs": [],
   "source": [
    "import numpy as np"
   ]
  },
  {
   "cell_type": "code",
   "execution_count": 14,
   "id": "4e7d7cc9",
   "metadata": {},
   "outputs": [],
   "source": [
    "# Example feature 1: Age groups (young, middle-aged, senior)\n",
    "df['age_group'] = pd.cut(df['age'], bins=[0, 30, 60, 100], labels=['young', 'middle-aged', 'senior'])"
   ]
  },
  {
   "cell_type": "code",
   "execution_count": 15,
   "id": "66d0c17e",
   "metadata": {},
   "outputs": [],
   "source": [
    "# Example feature 2: Work experience (calculated from age and education)\n",
    "df['work_experience'] = df['age'] - df['education_num']"
   ]
  },
  {
   "cell_type": "code",
   "execution_count": 16,
   "id": "2f700da8",
   "metadata": {},
   "outputs": [],
   "source": [
    "# Log transformation for skewed features (e.g., capital-gain)\n",
    "df['capital_gain_log'] = np.log(df['capital_gain'] + 1)"
   ]
  },
  {
   "cell_type": "markdown",
   "id": "174bcd79",
   "metadata": {},
   "source": [
    "### Task 4. Feature Selection"
   ]
  },
  {
   "cell_type": "code",
   "execution_count": 17,
   "id": "54d1c83d",
   "metadata": {},
   "outputs": [],
   "source": [
    "from sklearn.ensemble import IsolationForest\n",
    "from ppscore import score"
   ]
  },
  {
   "cell_type": "code",
   "execution_count": 18,
   "id": "adb903e6",
   "metadata": {},
   "outputs": [
    {
     "name": "stderr",
     "output_type": "stream",
     "text": [
      "C:\\Users\\sneha\\Downloads\\anaconda3\\lib\\site-packages\\sklearn\\base.py:420: UserWarning: X does not have valid feature names, but IsolationForest was fitted with feature names\n",
      "  warnings.warn(\n"
     ]
    }
   ],
   "source": [
    "# Isolation Forest for outlier detection\n",
    "iso_forest = IsolationForest(contamination=0.05)\n",
    "outliers = iso_forest.fit_predict(df[numerical_columns])"
   ]
  },
  {
   "cell_type": "code",
   "execution_count": 19,
   "id": "29b017d3",
   "metadata": {},
   "outputs": [],
   "source": [
    "# Remove outliers\n",
    "df_no_outliers = df[outliers != -1]"
   ]
  },
  {
   "cell_type": "code",
   "execution_count": 20,
   "id": "4676a1e8",
   "metadata": {},
   "outputs": [
    {
     "name": "stdout",
     "output_type": "stream",
     "text": [
      "                    x                 y   ppscore            case  \\\n",
      "0                 age               age  1.000000  predict_itself   \n",
      "1                 age         workclass  0.000000      regression   \n",
      "2                 age            fnlwgt  0.000000      regression   \n",
      "3                 age         education  0.000000      regression   \n",
      "4                 age     education_num  0.000000      regression   \n",
      "..                ...               ...       ...             ...   \n",
      "319  capital_gain_log    native_country  0.000000      regression   \n",
      "320  capital_gain_log            income  0.267013  classification   \n",
      "321  capital_gain_log         age_group  0.000000  classification   \n",
      "322  capital_gain_log   work_experience  0.000000      regression   \n",
      "323  capital_gain_log  capital_gain_log  1.000000  predict_itself   \n",
      "\n",
      "     is_valid_score               metric  baseline_score   model_score  \\\n",
      "0              True                 None        0.000000      1.000000   \n",
      "1              True  mean absolute error        0.725400      0.856236   \n",
      "2              True  mean absolute error    74316.475200  75614.894930   \n",
      "3              True  mean absolute error        2.732400      2.746610   \n",
      "4              True  mean absolute error        1.796600      1.817873   \n",
      "..              ...                  ...             ...           ...   \n",
      "319            True  mean absolute error        2.255600      4.082256   \n",
      "320            True          weighted F1        0.680313      0.765673   \n",
      "321            True          weighted F1        0.478800      0.458762   \n",
      "322            True  mean absolute error       10.837400     10.952818   \n",
      "323            True                 None        0.000000      1.000000   \n",
      "\n",
      "                        model  \n",
      "0                        None  \n",
      "1     DecisionTreeRegressor()  \n",
      "2     DecisionTreeRegressor()  \n",
      "3     DecisionTreeRegressor()  \n",
      "4     DecisionTreeRegressor()  \n",
      "..                        ...  \n",
      "319   DecisionTreeRegressor()  \n",
      "320  DecisionTreeClassifier()  \n",
      "321  DecisionTreeClassifier()  \n",
      "322   DecisionTreeRegressor()  \n",
      "323                      None  \n",
      "\n",
      "[324 rows x 9 columns]\n"
     ]
    }
   ],
   "source": [
    "import ppscore as pps\n",
    "\n",
    "# PPS matrix for the entire dataset\n",
    "pps_matrix = pps.matrix(df_no_outliers)\n",
    "\n",
    "# Display the PPS matrix\n",
    "print(pps_matrix)"
   ]
  },
  {
   "cell_type": "code",
   "execution_count": 21,
   "id": "857960ea",
   "metadata": {},
   "outputs": [],
   "source": [
    "# Select only numeric columns for correlation matrix\n",
    "numeric_columns = df_no_outliers.select_dtypes(include=['int64', 'float64']).columns"
   ]
  },
  {
   "cell_type": "code",
   "execution_count": 22,
   "id": "3b57ae71",
   "metadata": {},
   "outputs": [],
   "source": [
    "# Compute the correlation matrix\n",
    "correlation_matrix = df_no_outliers[numeric_columns].corr()"
   ]
  },
  {
   "cell_type": "code",
   "execution_count": 23,
   "id": "b033e526",
   "metadata": {},
   "outputs": [
    {
     "name": "stdout",
     "output_type": "stream",
     "text": [
      "                       age    fnlwgt  education_num  capital_gain  \\\n",
      "age               1.000000 -0.079209       0.035815      0.087073   \n",
      "fnlwgt           -0.079209  1.000000      -0.041380     -0.019665   \n",
      "education_num     0.035815 -0.041380       1.000000      0.120206   \n",
      "capital_gain      0.087073 -0.019665       0.120206      1.000000   \n",
      "capital_loss      0.024923 -0.046459       0.032640     -0.033146   \n",
      "hours_per_week    0.090177 -0.020228       0.126126      0.073604   \n",
      "work_experience   0.982824 -0.070731      -0.149230      0.063955   \n",
      "capital_gain_log  0.090746 -0.017840       0.089908      0.873158   \n",
      "\n",
      "                  capital_loss  hours_per_week  work_experience  \\\n",
      "age                   0.024923        0.090177         0.982824   \n",
      "fnlwgt               -0.046459       -0.020228        -0.070731   \n",
      "education_num         0.032640        0.126126        -0.149230   \n",
      "capital_gain         -0.033146        0.073604         0.063955   \n",
      "capital_loss          1.000000        0.015687         0.018632   \n",
      "hours_per_week        0.015687        1.000000         0.065934   \n",
      "work_experience       0.018632        0.065934         1.000000   \n",
      "capital_gain_log     -0.039664        0.060254         0.073184   \n",
      "\n",
      "                  capital_gain_log  \n",
      "age                       0.090746  \n",
      "fnlwgt                   -0.017840  \n",
      "education_num             0.089908  \n",
      "capital_gain              0.873158  \n",
      "capital_loss             -0.039664  \n",
      "hours_per_week            0.060254  \n",
      "work_experience           0.073184  \n",
      "capital_gain_log          1.000000  \n"
     ]
    }
   ],
   "source": [
    "# Display the correlation matrix\n",
    "print(correlation_matrix)\n"
   ]
  },
  {
   "cell_type": "code",
   "execution_count": null,
   "id": "c38dcd44",
   "metadata": {},
   "outputs": [],
   "source": []
  },
  {
   "cell_type": "code",
   "execution_count": null,
   "id": "835c85f1",
   "metadata": {},
   "outputs": [],
   "source": []
  }
 ],
 "metadata": {
  "kernelspec": {
   "display_name": "Python 3 (ipykernel)",
   "language": "python",
   "name": "python3"
  },
  "language_info": {
   "codemirror_mode": {
    "name": "ipython",
    "version": 3
   },
   "file_extension": ".py",
   "mimetype": "text/x-python",
   "name": "python",
   "nbconvert_exporter": "python",
   "pygments_lexer": "ipython3",
   "version": "3.10.9"
  }
 },
 "nbformat": 4,
 "nbformat_minor": 5
}
