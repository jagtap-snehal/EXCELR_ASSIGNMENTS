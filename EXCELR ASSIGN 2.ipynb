{
 "cells": [
  {
   "cell_type": "markdown",
   "id": "9b192221",
   "metadata": {},
   "source": [
    "# Name : Snehal shyam Jagtap\n"
   ]
  },
  {
   "cell_type": "markdown",
   "id": "03edbf3a",
   "metadata": {},
   "source": [
    "## Estimation And Confidence Intervals"
   ]
  },
  {
   "cell_type": "markdown",
   "id": "b3f46e72",
   "metadata": {},
   "source": [
    "## Task (a): Confidence Interval Using Sample Standard Deviation"
   ]
  },
  {
   "cell_type": "code",
   "execution_count": 1,
   "id": "f6353be3",
   "metadata": {},
   "outputs": [],
   "source": [
    "import numpy as np\n",
    "import scipy.stats as stats"
   ]
  },
  {
   "cell_type": "code",
   "execution_count": 2,
   "id": "ba9b7b68",
   "metadata": {},
   "outputs": [],
   "source": [
    "# sample data"
   ]
  },
  {
   "cell_type": "code",
   "execution_count": 3,
   "id": "cb90494e",
   "metadata": {},
   "outputs": [],
   "source": [
    "data = [1.13, 1.55, 1.43, 0.92, 1.25, 1.36, 1.32, 0.85, 1.07, 1.48, 1.20, 1.33, 1.18, 1.22, 1.29]\n"
   ]
  },
  {
   "cell_type": "code",
   "execution_count": 4,
   "id": "160dc0bd",
   "metadata": {},
   "outputs": [],
   "source": [
    "#sample statistics"
   ]
  },
  {
   "cell_type": "code",
   "execution_count": 9,
   "id": "3135d9c3",
   "metadata": {},
   "outputs": [
    {
     "data": {
      "text/plain": [
       "1.2386666666666666"
      ]
     },
     "execution_count": 9,
     "metadata": {},
     "output_type": "execute_result"
    }
   ],
   "source": [
    "mean=np.mean(data)\n",
    "mean"
   ]
  },
  {
   "cell_type": "code",
   "execution_count": 10,
   "id": "ccc85e96",
   "metadata": {},
   "outputs": [
    {
     "data": {
      "text/plain": [
       "0.19316412956959936"
      ]
     },
     "execution_count": 10,
     "metadata": {},
     "output_type": "execute_result"
    }
   ],
   "source": [
    "std_dev=np.std(data , ddof=1)\n",
    "std_dev\n"
   ]
  },
  {
   "cell_type": "code",
   "execution_count": 12,
   "id": "4f6f20c0",
   "metadata": {},
   "outputs": [
    {
     "data": {
      "text/plain": [
       "15"
      ]
     },
     "execution_count": 12,
     "metadata": {},
     "output_type": "execute_result"
    }
   ],
   "source": [
    "n=len(data)\n",
    "n"
   ]
  },
  {
   "cell_type": "code",
   "execution_count": 15,
   "id": "58261fe9",
   "metadata": {},
   "outputs": [],
   "source": [
    "# t-score for 99% confidence interval\n",
    "\n",
    "t_score = stats.t.ppf(0.995, df=n-1)"
   ]
  },
  {
   "cell_type": "code",
   "execution_count": 16,
   "id": "dbc3114e",
   "metadata": {},
   "outputs": [],
   "source": [
    "#margin of error\n",
    "margin_of_error=t_score *(std_dev/np.sqrt(n))"
   ]
  },
  {
   "cell_type": "code",
   "execution_count": 17,
   "id": "2bc932b7",
   "metadata": {},
   "outputs": [],
   "source": [
    "# Confidence interval\n",
    "confidence_interval = (mean - margin_of_error, mean + margin_of_error)"
   ]
  },
  {
   "cell_type": "code",
   "execution_count": 18,
   "id": "9caadbe5",
   "metadata": {},
   "outputs": [
    {
     "name": "stdout",
     "output_type": "stream",
     "text": [
      "99% Confidence Interval: (1.09, 1.39)\n"
     ]
    }
   ],
   "source": [
    "print(f\"99% Confidence Interval: ({confidence_interval[0]:.2f}, {confidence_interval[1]:.2f})\")"
   ]
  },
  {
   "cell_type": "markdown",
   "id": "8c055386",
   "metadata": {},
   "source": [
    "## Task (b): Confidence Interval Using Known Population Standard Deviation\n",
    "\n"
   ]
  },
  {
   "cell_type": "code",
   "execution_count": 19,
   "id": "8765ab10",
   "metadata": {},
   "outputs": [],
   "source": [
    "# Known population standard deviation"
   ]
  },
  {
   "cell_type": "code",
   "execution_count": 20,
   "id": "ea36c26b",
   "metadata": {},
   "outputs": [],
   "source": [
    "pop_std_dev = 0.2"
   ]
  },
  {
   "cell_type": "code",
   "execution_count": 21,
   "id": "9f97b94c",
   "metadata": {},
   "outputs": [],
   "source": [
    "# z-score for 99% confidence interval\n",
    "z_score = 2.576"
   ]
  },
  {
   "cell_type": "code",
   "execution_count": 22,
   "id": "0220419b",
   "metadata": {},
   "outputs": [],
   "source": [
    "# Margin of error\n",
    "margin_of_error = z_score * (pop_std_dev / np.sqrt(n))"
   ]
  },
  {
   "cell_type": "code",
   "execution_count": 23,
   "id": "a169c41b",
   "metadata": {},
   "outputs": [],
   "source": [
    "# Confidence interval\n",
    "confidence_interval = (mean - margin_of_error, mean + margin_of_error)"
   ]
  },
  {
   "cell_type": "code",
   "execution_count": 27,
   "id": "7c15cc6a",
   "metadata": {},
   "outputs": [
    {
     "name": "stdout",
     "output_type": "stream",
     "text": [
      "Sample Mean: 1.24\n"
     ]
    }
   ],
   "source": [
    "print(f\"Sample Mean: {mean:.2f}\")\n"
   ]
  },
  {
   "cell_type": "code",
   "execution_count": 26,
   "id": "a819f0ec",
   "metadata": {},
   "outputs": [
    {
     "name": "stdout",
     "output_type": "stream",
     "text": [
      "99% Confidence Interval using known population standard deviation: (1.11, 1.37)\n"
     ]
    }
   ],
   "source": [
    "print(f\"99% Confidence Interval using known population standard deviation: ({confidence_interval[0]:.2f}, {confidence_interval[1]:.2f})\")\n"
   ]
  },
  {
   "cell_type": "code",
   "execution_count": null,
   "id": "58e3c91f",
   "metadata": {},
   "outputs": [],
   "source": []
  }
 ],
 "metadata": {
  "kernelspec": {
   "display_name": "Python 3 (ipykernel)",
   "language": "python",
   "name": "python3"
  },
  "language_info": {
   "codemirror_mode": {
    "name": "ipython",
    "version": 3
   },
   "file_extension": ".py",
   "mimetype": "text/x-python",
   "name": "python",
   "nbconvert_exporter": "python",
   "pygments_lexer": "ipython3",
   "version": "3.10.9"
  }
 },
 "nbformat": 4,
 "nbformat_minor": 5
}
