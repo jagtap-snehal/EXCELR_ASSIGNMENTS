{
 "cells": [
  {
   "cell_type": "markdown",
   "id": "88e84f78",
   "metadata": {
    "id": "88e84f78"
   },
   "source": [
    "# snehal Jagtap\n",
    "\n",
    "### Recommendation System"
   ]
  },
  {
   "cell_type": "code",
   "execution_count": null,
   "id": "f7e78fc5",
   "metadata": {
    "id": "f7e78fc5"
   },
   "outputs": [],
   "source": [
    "# Import necessary libraries\n",
    "import pandas as pd\n",
    "from sklearn.metrics.pairwise import cosine_similarity\n",
    "from sklearn.feature_extraction.text import TfidfVectorizer\n",
    "from sklearn.preprocessing import MinMaxScaler\n",
    "from sklearn.model_selection import train_test_split\n",
    "import numpy as np"
   ]
  },
  {
   "cell_type": "markdown",
   "id": "43ad71ab",
   "metadata": {
    "id": "43ad71ab"
   },
   "source": [
    "###  Step 1: Data Preprocessing"
   ]
  },
  {
   "cell_type": "code",
   "execution_count": null,
   "id": "774c0928",
   "metadata": {
    "id": "774c0928"
   },
   "outputs": [],
   "source": [
    "# Load the dataset\n",
    "anime_df = pd.read_csv('anime.csv')"
   ]
  },
  {
   "cell_type": "code",
   "execution_count": null,
   "id": "9257ce28",
   "metadata": {
    "id": "9257ce28",
    "outputId": "6a437f30-fd0a-4f9f-bcf0-53f6f56c05f6"
   },
   "outputs": [
    {
     "name": "stdout",
     "output_type": "stream",
     "text": [
      "   anime_id                              name  \\\n",
      "0     32281                    Kimi no Na wa.   \n",
      "1      5114  Fullmetal Alchemist: Brotherhood   \n",
      "2     28977                          Gintama°   \n",
      "3      9253                       Steins;Gate   \n",
      "4      9969                     Gintama&#039;   \n",
      "\n",
      "                                               genre   type episodes  rating  \\\n",
      "0               Drama, Romance, School, Supernatural  Movie        1    9.37   \n",
      "1  Action, Adventure, Drama, Fantasy, Magic, Mili...     TV       64    9.26   \n",
      "2  Action, Comedy, Historical, Parody, Samurai, S...     TV       51    9.25   \n",
      "3                                   Sci-Fi, Thriller     TV       24    9.17   \n",
      "4  Action, Comedy, Historical, Parody, Samurai, S...     TV       51    9.16   \n",
      "\n",
      "   members  \n",
      "0   200630  \n",
      "1   793665  \n",
      "2   114262  \n",
      "3   673572  \n",
      "4   151266  \n"
     ]
    }
   ],
   "source": [
    "# Display the first few rows of the dataframe\n",
    "print(anime_df.head())"
   ]
  },
  {
   "cell_type": "code",
   "execution_count": null,
   "id": "dce932b0",
   "metadata": {
    "id": "dce932b0",
    "outputId": "769390ef-663a-4157-f8e1-fd645efb604a"
   },
   "outputs": [
    {
     "name": "stdout",
     "output_type": "stream",
     "text": [
      "anime_id      0\n",
      "name          0\n",
      "genre        62\n",
      "type         25\n",
      "episodes      0\n",
      "rating      230\n",
      "members       0\n",
      "dtype: int64\n"
     ]
    }
   ],
   "source": [
    "# Check for missing values\n",
    "print(anime_df.isnull().sum())"
   ]
  },
  {
   "cell_type": "code",
   "execution_count": null,
   "id": "86e64be9",
   "metadata": {
    "id": "86e64be9",
    "outputId": "16d59cc4-dd22-466c-dd36-9a5d65e71bc0"
   },
   "outputs": [
    {
     "name": "stdout",
     "output_type": "stream",
     "text": [
      "anime_id      int64\n",
      "name         object\n",
      "genre        object\n",
      "type         object\n",
      "episodes     object\n",
      "rating      float64\n",
      "members       int64\n",
      "dtype: object\n"
     ]
    }
   ],
   "source": [
    "# Display data types of all columns\n",
    "print(anime_df.dtypes)"
   ]
  },
  {
   "cell_type": "code",
   "execution_count": null,
   "id": "3453c346",
   "metadata": {
    "id": "3453c346",
    "outputId": "7827ace1-409e-4c39-a0dd-b62dc34e8569"
   },
   "outputs": [
    {
     "name": "stdout",
     "output_type": "stream",
     "text": [
      "Unique values in 'episodes' column:\n",
      "['1' '64' '51' '24' '10' '148' '110' '13' '201' '25' '22' '75' '4' '26'\n",
      " '12' '27' '43' '74' '37' '2' '11' '99' 'Unknown' '39' '101' '47' '50'\n",
      " '62' '33' '112' '23' '3' '94' '6' '8' '14' '7' '40' '15' '203' '77' '291'\n",
      " '120' '102' '96' '38' '79' '175' '103' '70' '153' '45' '5' '21' '63' '52'\n",
      " '28' '145' '36' '69' '60' '178' '114' '35' '61' '34' '109' '20' '9' '49'\n",
      " '366' '97' '48' '78' '358' '155' '104' '113' '54' '167' '161' '42' '142'\n",
      " '31' '373' '220' '46' '195' '17' '1787' '73' '147' '127' '16' '19' '98'\n",
      " '150' '76' '53' '124' '29' '115' '224' '44' '58' '93' '154' '92' '67'\n",
      " '172' '86' '30' '276' '59' '72' '330' '41' '105' '128' '137' '56' '55'\n",
      " '65' '243' '193' '18' '191' '180' '91' '192' '66' '182' '32' '164' '100'\n",
      " '296' '694' '95' '68' '117' '151' '130' '87' '170' '119' '84' '108' '156'\n",
      " '140' '331' '305' '300' '510' '200' '88' '1471' '526' '143' '726' '136'\n",
      " '1818' '237' '1428' '365' '163' '283' '71' '260' '199' '225' '312' '240'\n",
      " '1306' '1565' '773' '1274' '90' '475' '263' '83' '85' '1006' '80' '162'\n",
      " '132' '141' '125']\n"
     ]
    }
   ],
   "source": [
    "# Check unique values of 'episodes' column\n",
    "print(\"Unique values in 'episodes' column:\")\n",
    "print(anime_df['episodes'].unique())"
   ]
  },
  {
   "cell_type": "code",
   "execution_count": null,
   "id": "aedd4911",
   "metadata": {
    "id": "aedd4911",
    "outputId": "38b5ad89-3ffc-4ad1-9754-501e61cd42f7"
   },
   "outputs": [
    {
     "name": "stdout",
     "output_type": "stream",
     "text": [
      "Unique values in 'rating' column:\n",
      "[ 9.37        9.26        9.25        9.17        9.16        9.15\n",
      "  9.13        9.11        9.1         9.06        9.05        9.04\n",
      "  8.98        8.93        8.92        8.88        8.84        8.83\n",
      "  8.82        8.81        8.8         8.78        8.77        8.76\n",
      "  8.75        8.74        8.73        8.72        8.71        8.69\n",
      "  8.68        8.67        8.66        8.65        8.64        8.62\n",
      "  8.61        8.6         8.59        8.58        8.57        8.56\n",
      "  8.55        8.54        8.53        8.52        8.51        8.5\n",
      "  8.49        8.48        8.47        8.46        8.45        8.44\n",
      "  8.43        8.42        8.41        8.4         8.39        8.38\n",
      "  8.37        8.36        8.35        8.34        8.33        8.32\n",
      "  8.31        8.3         8.29        8.28        8.27        8.26\n",
      "  8.25        8.24        8.23        8.22        8.21        8.2\n",
      "  8.19        8.18        8.17        8.16        8.15        8.14\n",
      "  8.13        8.12        8.11        8.1         8.09        8.08\n",
      "  8.07        8.06        8.05        8.04        8.03        8.02\n",
      "  8.01        8.          7.99        7.98        7.97        7.96\n",
      "  7.95        7.94        7.93        7.92        7.91        7.9\n",
      "  7.89        7.88        7.87        7.86        7.85        7.84\n",
      "  7.83        7.82        7.81        7.8         7.79        7.78\n",
      "  7.77        7.76        7.75        7.74        7.73        7.72\n",
      "  7.71        7.7         7.69        7.68        7.67        7.66\n",
      "  7.65        7.64        7.63        7.62        7.61        7.6\n",
      "  7.59        7.58        7.57        7.56        7.55        7.54\n",
      "  7.53        7.52        7.51        7.5         7.49        7.48\n",
      "  7.47        7.46        7.45        7.44        7.43        7.42\n",
      "  7.41        7.4         7.39        7.38        7.37        7.36\n",
      "  7.35        7.34        7.33        7.32        7.31        7.3\n",
      "  7.29        7.28        7.27        7.25        7.26        7.24\n",
      "  7.23        7.22        7.21        7.2         7.19        7.18\n",
      "  7.17        7.16        7.14        7.15        7.13        7.12\n",
      "  7.11        7.1         7.09        7.08        7.07        7.06\n",
      "  7.05        7.04        7.03        7.02        7.01        7.\n",
      "  6.99        6.98        6.97        6.96        6.95        6.94\n",
      "  6.93        6.92        6.91        6.9         6.89        6.88\n",
      "  6.87        6.86        6.85        6.84        6.83        6.82\n",
      "  6.81        6.8         6.79        6.78        6.75        6.77\n",
      "  6.76        6.74        6.73        6.72        6.71        6.7\n",
      "  6.69        6.68        6.67        6.66        6.65        6.64\n",
      "  6.63        6.62        6.61        6.6         6.59        6.58\n",
      "  6.57        6.56        6.55        6.54        6.53        6.52\n",
      "  6.51        6.47        6.5         6.49        6.48        6.46\n",
      "  6.45        6.42        6.44        6.43        6.39        6.41\n",
      "  6.4         6.38        6.37        6.35        6.36        6.34\n",
      "  6.33        6.32        6.31        6.3         6.29        6.28\n",
      "  6.27        6.26        6.25        6.22        6.24        6.23\n",
      "  6.21        6.2         6.19        6.18        6.17        6.16\n",
      "  6.15        6.14        6.13        6.12        6.1         6.11\n",
      "  6.09        6.08        6.06        6.07        6.05        6.04\n",
      "  6.03        6.01        6.02        6.          5.99        5.98\n",
      "  5.97        5.96        5.95        5.94        5.93        5.92\n",
      "  5.91        5.89        5.9         5.88        5.87        5.86\n",
      "  5.85        5.84        5.83        5.82        5.81        5.8\n",
      "  5.79        5.78        5.77        5.76        5.75        5.74\n",
      "  5.73        5.72        5.7         5.71        5.69        5.68\n",
      "  5.67        5.66        5.65        5.64        5.63        5.62\n",
      "  5.61        5.6         5.59        5.58        5.57        5.56\n",
      "  5.55        5.53        5.54        5.52        5.51        5.5\n",
      "  5.49        5.48        5.46        5.47        5.45        5.44\n",
      "  5.43        5.42        5.41        5.4         5.39        5.38\n",
      "  5.37        5.36        5.35        5.34        5.33        5.32\n",
      "  5.31        5.3         5.29        5.28        5.27        5.26\n",
      "  5.24        5.25        5.23        5.22        5.21        5.2\n",
      "  5.19        5.14        5.18        5.17        5.16        5.15\n",
      "  5.13        5.11        5.12        5.1         5.09        5.07\n",
      "  5.08        5.06        5.05        5.04        5.03        5.02\n",
      "  5.01        5.          4.99        4.98        4.97        4.96\n",
      "  4.95        4.94        4.93        4.92        4.91        4.9\n",
      "  4.89        4.88        4.84        4.87        4.86        4.85\n",
      "  4.83        4.82        4.81        4.8         4.79        4.78\n",
      "  4.77        4.76        4.75        4.74        4.73        4.72\n",
      "  4.71        4.7         4.69        4.68        4.66        4.67\n",
      "  4.65        4.64        4.63        4.62        4.6         4.59\n",
      "  4.58        4.57        4.56        4.55        4.54        4.53\n",
      "  4.52        4.49        4.5         4.48        4.46        4.45\n",
      "  4.44        4.43        4.42        4.4         4.39        4.38\n",
      "  4.36        4.35        4.34        4.32        4.31        4.3\n",
      "  4.28        4.27        4.26        4.25        4.24        4.23\n",
      "  4.22        4.21        4.19        4.17        4.16        4.15\n",
      "  4.11        4.08        4.04        4.03        4.02        4.\n",
      "  3.99        3.98        3.96        3.91        3.9         3.88\n",
      "  3.87        3.86        3.84        3.83        3.82        3.8\n",
      "  3.78        3.76        3.75        3.74        3.73        3.71\n",
      "  3.7         3.68        3.65        3.63        3.62        3.6\n",
      "  3.58        3.59        3.56        3.47        3.46        3.41\n",
      "  3.36        3.33        3.32        3.27        2.95        2.93\n",
      "  2.78        2.67        2.37        2.14        2.          4.06\n",
      "  4.18        4.09        3.67        3.          4.33        3.89\n",
      "  4.2         3.61        4.13        3.11        2.58        4.29\n",
      "  3.43        3.57        4.05        4.51        3.4         3.79\n",
      "  3.81        3.92        3.48        3.38        3.95        4.61\n",
      "  3.34        3.02        2.69        3.5         3.97        3.85\n",
      "  6.47390169  3.77        3.53        9.33        4.14        4.12\n",
      "  3.2         3.93        3.52        2.55        9.          2.97\n",
      "  4.1         3.39        3.17        9.5         3.25        2.8\n",
      "  2.91        2.75        4.41        3.72        3.94        1.67\n",
      "  4.37        3.69        3.26        3.49        2.49        2.84\n",
      "  4.07        3.35        3.54        3.21        3.42        9.6\n",
      "  3.28       10.          3.51        3.29        2.72        3.64\n",
      "  2.98        3.44        1.92        2.86        3.14      ]\n"
     ]
    }
   ],
   "source": [
    "# Check unique values of 'rating' column\n",
    "print(\"Unique values in 'rating' column:\")\n",
    "print(anime_df['rating'].unique())"
   ]
  },
  {
   "cell_type": "code",
   "execution_count": null,
   "id": "69aba7bb",
   "metadata": {
    "id": "69aba7bb"
   },
   "outputs": [],
   "source": [
    "# Convert 'episodes' column to numeric, coercing errors to NaN\n",
    "anime_df['episodes'] = pd.to_numeric(anime_df['episodes'], errors='coerce')"
   ]
  },
  {
   "cell_type": "code",
   "execution_count": null,
   "id": "686ca042",
   "metadata": {
    "id": "686ca042"
   },
   "outputs": [],
   "source": [
    "# Convert 'rating' column to numeric, coercing errors to NaN\n",
    "anime_df['rating'] = pd.to_numeric(anime_df['rating'], errors='coerce')"
   ]
  },
  {
   "cell_type": "code",
   "execution_count": null,
   "id": "b917c9b1",
   "metadata": {
    "id": "b917c9b1"
   },
   "outputs": [],
   "source": [
    "# Fill NaN values again, as non-numeric conversions will be set to NaN\n",
    "anime_df['episodes'].fillna(anime_df['episodes'].mean(), inplace=True)\n",
    "anime_df['rating'].fillna(anime_df['rating'].mean(), inplace=True)"
   ]
  },
  {
   "cell_type": "code",
   "execution_count": null,
   "id": "4bd1ac82",
   "metadata": {
    "id": "4bd1ac82",
    "outputId": "564b5834-3cc0-4495-d078-947268051796"
   },
   "outputs": [
    {
     "name": "stdout",
     "output_type": "stream",
     "text": [
      "anime_id     0\n",
      "name         0\n",
      "genre        0\n",
      "type        25\n",
      "episodes     0\n",
      "rating       0\n",
      "members      0\n",
      "dtype: int64\n"
     ]
    }
   ],
   "source": [
    "# Check if there are any remaining NaNs or non-numeric values\n",
    "print(anime_df.isnull().sum())"
   ]
  },
  {
   "cell_type": "code",
   "execution_count": null,
   "id": "f180ed19",
   "metadata": {
    "id": "f180ed19"
   },
   "outputs": [],
   "source": [
    "# Normalize the ratings column\n",
    "scaler = MinMaxScaler()\n",
    "anime_df['rating_normalized'] = scaler.fit_transform(anime_df[['rating']])"
   ]
  },
  {
   "cell_type": "code",
   "execution_count": null,
   "id": "9e88b3cd",
   "metadata": {
    "id": "9e88b3cd",
    "outputId": "83ff473d-0e6c-4d9d-fac5-f2c815f911d8"
   },
   "outputs": [
    {
     "name": "stdout",
     "output_type": "stream",
     "text": [
      "   anime_id                              name  \\\n",
      "0     32281                    Kimi no Na wa.   \n",
      "1      5114  Fullmetal Alchemist: Brotherhood   \n",
      "2     28977                          Gintama°   \n",
      "3      9253                       Steins;Gate   \n",
      "4      9969                     Gintama&#039;   \n",
      "\n",
      "                                               genre   type  episodes  rating  \\\n",
      "0               Drama, Romance, School, Supernatural  Movie       1.0    9.37   \n",
      "1  Action, Adventure, Drama, Fantasy, Magic, Mili...     TV      64.0    9.26   \n",
      "2  Action, Comedy, Historical, Parody, Samurai, S...     TV      51.0    9.25   \n",
      "3                                   Sci-Fi, Thriller     TV      24.0    9.17   \n",
      "4  Action, Comedy, Historical, Parody, Samurai, S...     TV      51.0    9.16   \n",
      "\n",
      "   members  rating_normalized  \n",
      "0   200630           0.924370  \n",
      "1   793665           0.911164  \n",
      "2   114262           0.909964  \n",
      "3   673572           0.900360  \n",
      "4   151266           0.899160  \n"
     ]
    }
   ],
   "source": [
    "# Check the first few rows to ensure the changes\n",
    "print(anime_df.head())"
   ]
  },
  {
   "cell_type": "code",
   "execution_count": null,
   "id": "1abbed4f",
   "metadata": {
    "id": "1abbed4f"
   },
   "outputs": [],
   "source": [
    "# Fill missing values (for demonstration, we'll use simple filling; customize as needed)\n",
    "anime_df['genre'].fillna('Unknown', inplace=True)\n",
    "anime_df['rating'].fillna(anime_df['rating'].mean(), inplace=True)\n",
    "anime_df['episodes'].fillna(anime_df['episodes'].mean(), inplace=True)"
   ]
  },
  {
   "cell_type": "code",
   "execution_count": null,
   "id": "797f52b1",
   "metadata": {
    "id": "797f52b1",
    "outputId": "13c1fc2c-0fb4-464f-94c0-1ef7a0fd1747"
   },
   "outputs": [
    {
     "name": "stdout",
     "output_type": "stream",
     "text": [
      "anime_id              0\n",
      "name                  0\n",
      "genre                 0\n",
      "type                 25\n",
      "episodes              0\n",
      "rating                0\n",
      "members               0\n",
      "rating_normalized     0\n",
      "dtype: int64\n"
     ]
    }
   ],
   "source": [
    "# Check again for missing values\n",
    "print(anime_df.isnull().sum())"
   ]
  },
  {
   "cell_type": "markdown",
   "id": "264f9bf0",
   "metadata": {
    "id": "264f9bf0"
   },
   "source": [
    "### Step 2: Feature Extraction"
   ]
  },
  {
   "cell_type": "code",
   "execution_count": null,
   "id": "e2e278a9",
   "metadata": {
    "id": "e2e278a9"
   },
   "outputs": [],
   "source": [
    "# Combine relevant features into a single string for vectorization (e.g., genres, title)\n",
    "if 'name' in anime_df.columns:\n",
    "    anime_df['combined_features'] = anime_df['name'] + ' ' + anime_df['genre']\n",
    "elif 'anime_title' in anime_df.columns:\n",
    "    anime_df['combined_features'] = anime_df['anime_title'] + ' ' + anime_df['genre']\n",
    "else:\n",
    "    print(\"Title column not found. Please verify the dataset structure.\")"
   ]
  },
  {
   "cell_type": "code",
   "execution_count": null,
   "id": "ca1823f2",
   "metadata": {
    "id": "ca1823f2",
    "outputId": "7c4faa33-0ce5-4739-da71-14b6bd5f56ed"
   },
   "outputs": [
    {
     "name": "stdout",
     "output_type": "stream",
     "text": [
      "   anime_id                              name  \\\n",
      "0     32281                    Kimi no Na wa.   \n",
      "1      5114  Fullmetal Alchemist: Brotherhood   \n",
      "2     28977                          Gintama°   \n",
      "3      9253                       Steins;Gate   \n",
      "4      9969                     Gintama&#039;   \n",
      "\n",
      "                                               genre   type  episodes  rating  \\\n",
      "0               Drama, Romance, School, Supernatural  Movie       1.0    9.37   \n",
      "1  Action, Adventure, Drama, Fantasy, Magic, Mili...     TV      64.0    9.26   \n",
      "2  Action, Comedy, Historical, Parody, Samurai, S...     TV      51.0    9.25   \n",
      "3                                   Sci-Fi, Thriller     TV      24.0    9.17   \n",
      "4  Action, Comedy, Historical, Parody, Samurai, S...     TV      51.0    9.16   \n",
      "\n",
      "   members  rating_normalized  \\\n",
      "0   200630           0.924370   \n",
      "1   793665           0.911164   \n",
      "2   114262           0.909964   \n",
      "3   673572           0.900360   \n",
      "4   151266           0.899160   \n",
      "\n",
      "                                   combined_features  \n",
      "0  Kimi no Na wa. Drama, Romance, School, Superna...  \n",
      "1  Fullmetal Alchemist: Brotherhood Action, Adven...  \n",
      "2  Gintama° Action, Comedy, Historical, Parody, S...  \n",
      "3                       Steins;Gate Sci-Fi, Thriller  \n",
      "4  Gintama&#039; Action, Comedy, Historical, Paro...  \n"
     ]
    }
   ],
   "source": [
    "print(anime_df.head())"
   ]
  },
  {
   "cell_type": "code",
   "execution_count": null,
   "id": "9abf3037",
   "metadata": {
    "id": "9abf3037"
   },
   "outputs": [],
   "source": [
    "# Convert the combined features to a matrix of token counts\n",
    "tfidf = TfidfVectorizer(stop_words='english')\n",
    "tfidf_matrix = tfidf.fit_transform(anime_df['combined_features'])"
   ]
  },
  {
   "cell_type": "code",
   "execution_count": null,
   "id": "1f41e4d9",
   "metadata": {
    "id": "1f41e4d9"
   },
   "outputs": [],
   "source": [
    "# Normalize the ratings column\n",
    "scaler = MinMaxScaler()\n",
    "anime_df['rating_normalized'] = scaler.fit_transform(anime_df[['rating']])"
   ]
  },
  {
   "cell_type": "markdown",
   "id": "fcb6313a",
   "metadata": {
    "id": "fcb6313a"
   },
   "source": [
    "### Step 3: Recommendation System"
   ]
  },
  {
   "cell_type": "code",
   "execution_count": null,
   "id": "5dd1871e",
   "metadata": {
    "id": "5dd1871e"
   },
   "outputs": [],
   "source": [
    "# Calculate cosine similarity matrix\n",
    "cosine_sim = cosine_similarity(tfidf_matrix, tfidf_matrix)"
   ]
  },
  {
   "cell_type": "code",
   "execution_count": null,
   "id": "f8e6f167",
   "metadata": {
    "id": "f8e6f167"
   },
   "outputs": [],
   "source": [
    "# Function to recommend anime based on cosine similarity\n",
    "# Function to recommend anime based on cosine similarity\n",
    "def recommend_anime(title, cosine_sim=cosine_sim, df=anime_df):\n",
    "    # Check which column contains the anime title\n",
    "    title_column = 'title'  # Update this to the correct column name if needed\n",
    "\n",
    "    if 'name' in df.columns:\n",
    "        title_column = 'name'\n",
    "    elif 'anime_title' in df.columns:\n",
    "        title_column = 'anime_title'\n",
    "\n",
    "    # Get the index of the anime that matches the title\n",
    "    try:\n",
    "        idx = df[df[title_column] == title].index[0]\n",
    "    except IndexError:\n",
    "        return f\"Anime titled '{title}' not found in the dataset.\"\n",
    "\n",
    "    # Get the pairwise similarity scores of all anime with the given anime\n",
    "    sim_scores = list(enumerate(cosine_sim[idx]))\n",
    "\n",
    "    # Sort the anime based on similarity scores\n",
    "    sim_scores = sorted(sim_scores, key=lambda x: x[1], reverse=True)\n",
    "\n",
    "    # Get the indices of the top 10 most similar anime (excluding itself)\n",
    "    sim_scores = sim_scores[1:11]\n",
    "\n",
    "    # Get the anime indices\n",
    "    anime_indices = [i[0] for i in sim_scores]\n",
    "\n",
    "    # Return the top 10 most similar anime\n",
    "    return df[title_column].iloc[anime_indices]"
   ]
  },
  {
   "cell_type": "code",
   "execution_count": null,
   "id": "be156bf0",
   "metadata": {
    "id": "be156bf0",
    "outputId": "bbaf39b9-a847-4ade-c81f-4f8e1516cdf0"
   },
   "outputs": [
    {
     "name": "stdout",
     "output_type": "stream",
     "text": [
      "719                            The Last: Naruto the Movie\n",
      "615                                    Naruto: Shippuuden\n",
      "1343                                          Naruto x UT\n",
      "486                              Boruto: Naruto the Movie\n",
      "2458                 Naruto Shippuuden: Sunny Side Battle\n",
      "784            Naruto: Shippuuden Movie 6 - Road to Ninja\n",
      "1103    Boruto: Naruto the Movie - Naruto ga Hokage ni...\n",
      "1472          Naruto: Shippuuden Movie 4 - The Lost Tower\n",
      "2416    Naruto: Honoo no Chuunin Shiken! Naruto vs. Ko...\n",
      "2997    Naruto Soyokazeden Movie: Naruto to Mashin to ...\n",
      "Name: name, dtype: object\n"
     ]
    }
   ],
   "source": [
    "# Test the recommendation system\n",
    "print(recommend_anime('Naruto'))"
   ]
  },
  {
   "cell_type": "markdown",
   "id": "73b64dfb",
   "metadata": {
    "id": "73b64dfb"
   },
   "source": [
    "### Step 4: Evaluation (dummy implementation for structure)"
   ]
  },
  {
   "cell_type": "markdown",
   "id": "c2ccf6cc",
   "metadata": {
    "id": "c2ccf6cc"
   },
   "source": [
    "1. Create a User-Anime Interaction Data"
   ]
  },
  {
   "cell_type": "code",
   "execution_count": null,
   "id": "ea890112",
   "metadata": {
    "id": "ea890112",
    "outputId": "e267d261-6576-4b85-d031-0845616762a4"
   },
   "outputs": [
    {
     "name": "stdout",
     "output_type": "stream",
     "text": [
      "   user_id  anime_id  rating\n",
      "0        8         0    9.37\n",
      "1        1         1    9.26\n",
      "2       47         2    9.25\n",
      "3       32         3    9.17\n",
      "4       12         4    9.16\n"
     ]
    }
   ],
   "source": [
    "# Creating a dummy user interaction dataset if not available\n",
    "anime_df['user_id'] = np.random.randint(1, 50, size=len(anime_df))  # Simulating user_id\n",
    "anime_df['anime_id'] = anime_df.index  # Using index as anime_id for this example\n",
    "anime_df['rating'] = pd.to_numeric(anime_df['rating'], errors='coerce')  # Ensure ratings are numeric\n",
    "\n",
    "# Display a few rows of this user interaction data\n",
    "print(anime_df[['user_id', 'anime_id', 'rating']].head())"
   ]
  },
  {
   "cell_type": "markdown",
   "id": "335c8781",
   "metadata": {
    "id": "335c8781"
   },
   "source": [
    "2. Train-Test Split"
   ]
  },
  {
   "cell_type": "code",
   "execution_count": null,
   "id": "157609e4",
   "metadata": {
    "id": "157609e4",
    "outputId": "2be6b11f-7557-495c-8259-a59f1d709ae0"
   },
   "outputs": [
    {
     "name": "stdout",
     "output_type": "stream",
     "text": [
      "Training set size: 9835\n",
      "Testing set size: 2459\n"
     ]
    }
   ],
   "source": [
    "# Splitting the dataset into training and testing sets\n",
    "train_df, test_df = train_test_split(anime_df, test_size=0.2, random_state=42)\n",
    "\n",
    "# Display sizes\n",
    "print(\"Training set size:\", len(train_df))\n",
    "print(\"Testing set size:\", len(test_df))"
   ]
  },
  {
   "cell_type": "markdown",
   "id": "410c0380",
   "metadata": {
    "id": "410c0380"
   },
   "source": [
    "3. Build the Recommendation System"
   ]
  },
  {
   "cell_type": "code",
   "execution_count": null,
   "id": "1c69e24e",
   "metadata": {
    "id": "1c69e24e"
   },
   "outputs": [],
   "source": [
    "# Rebuild the cosine similarity matrix using only the training set\n",
    "tfidf_matrix_train = tfidf.fit_transform(train_df['combined_features'])\n",
    "cosine_sim_train = cosine_similarity(tfidf_matrix_train, tfidf_matrix_train)"
   ]
  },
  {
   "cell_type": "markdown",
   "id": "7d61af13",
   "metadata": {
    "id": "7d61af13"
   },
   "source": [
    "4. Generate Recommendations"
   ]
  },
  {
   "cell_type": "code",
   "execution_count": null,
   "id": "e2bb232e",
   "metadata": {
    "id": "e2bb232e"
   },
   "outputs": [],
   "source": [
    "# Updating the recommendation function to use the training cosine similarity\n",
    "def recommend_anime_from_train(title, df=train_df, cosine_sim=cosine_sim_train):\n",
    "    title_column = 'name'  # Replace with correct column name if needed\n",
    "    if 'name' in df.columns:\n",
    "        title_column = 'name'\n",
    "    elif 'anime_title' in df.columns:\n",
    "        title_column = 'anime_title'\n",
    "\n",
    "    # Return empty list if title not found\n",
    "    if title not in df[title_column].values:\n",
    "        return []\n",
    "\n",
    "    # Get the index of the anime that matches the title\n",
    "    idx = df[df[title_column] == title].index[0]\n",
    "\n",
    "    # Get the pairwise similarity scores of all anime with the given anime\n",
    "    sim_scores = list(enumerate(cosine_sim[idx]))\n",
    "\n",
    "    # Sort the anime based on similarity scores\n",
    "    sim_scores = sorted(sim_scores, key=lambda x: x[1], reverse=True)\n",
    "\n",
    "    # Get the indices of the top 10 most similar anime (excluding itself)\n",
    "    sim_scores = sim_scores[1:11]  # Exclude itself\n",
    "\n",
    "    # Get the anime indices\n",
    "    anime_indices = [i[0] for i in sim_scores]\n",
    "\n",
    "    # Return the top 10 most similar anime as a list\n",
    "    return df[title_column].iloc[anime_indices].tolist()"
   ]
  },
  {
   "cell_type": "code",
   "execution_count": null,
   "id": "9db34a23",
   "metadata": {
    "id": "9db34a23",
    "outputId": "7a847493-6cb7-4087-ff0d-c241cefb9ca1"
   },
   "outputs": [
    {
     "name": "stdout",
     "output_type": "stream",
     "text": [
      "['Ginga Hyouryuu Vifam', 'Ginga Shounen Tai', 'Ginga Shippuu Sasuraiger', 'Ginga Reppuu Baxingar', 'Ginga Hyouryuu Vifam 13', 'Ginga Nagareboshi Gin', 'Macross 7 Movie: Ginga ga Ore wo Yondeiru!', 'Ginga Densetsu Weed', 'Ginga Hyouryuu Vifam: Kieta 12-nin', 'Ginga Tetsudou 999']\n"
     ]
    }
   ],
   "source": [
    "# Generate recommendations for testing purposes\n",
    "print(recommend_anime_from_train('Naruto'))"
   ]
  },
  {
   "cell_type": "markdown",
   "id": "bab024f3",
   "metadata": {
    "id": "bab024f3"
   },
   "source": [
    "5. Evaluate the System"
   ]
  },
  {
   "cell_type": "code",
   "execution_count": null,
   "id": "8349ac3f",
   "metadata": {
    "id": "8349ac3f"
   },
   "outputs": [],
   "source": [
    "from sklearn.metrics import precision_score, recall_score, f1_score"
   ]
  },
  {
   "cell_type": "code",
   "execution_count": null,
   "id": "3fe5b713",
   "metadata": {
    "id": "3fe5b713"
   },
   "outputs": [],
   "source": [
    "# Placeholders for evaluation\n",
    "y_true = []  # Actual liked/disliked based on rating threshold, e.g., 3.5\n",
    "y_pred = []  # Recommended or not"
   ]
  },
  {
   "cell_type": "code",
   "execution_count": null,
   "id": "fde2754e",
   "metadata": {
    "id": "fde2754e"
   },
   "outputs": [],
   "source": [
    "# For each anime in test set, check if it is in the recommended list\n",
    "\n",
    "for _, row in test_df.iterrows():\n",
    "    recommended_anime = recommend_anime_from_train(row['name'])  # List of recommended anime titles\n",
    "\n",
    "    # Append 1 if user liked this anime, 0 otherwise\n",
    "    y_true.append(1 if row['rating'] >= 3.5 else 0)  # Assuming 3.5 as like threshold\n",
    "\n",
    "    # Check if the anime is in the recommended list\n",
    "    y_pred.append(1 if row['name'] in recommended_anime else 0)"
   ]
  },
  {
   "cell_type": "code",
   "execution_count": null,
   "id": "f2b3bb10",
   "metadata": {
    "id": "f2b3bb10",
    "outputId": "4a14d671-fd27-47c0-89e5-81bc7ba18909"
   },
   "outputs": [
    {
     "name": "stdout",
     "output_type": "stream",
     "text": [
      "Length mismatch at index 6329: y_true = 2461, y_pred = 2460\n"
     ]
    }
   ],
   "source": [
    "# Iterate through the test dataset\n",
    "for index, row in test_df.iterrows():\n",
    "    # Get recommended anime for the current row using the training set\n",
    "    recommended_anime = recommend_anime_from_train(row['name'])  # List of recommended anime titles\n",
    "\n",
    "    # Append the actual value: 1 if rating >= 3.5 (liked), 0 otherwise\n",
    "    y_true.append(1 if row['rating'] >= 3.5 else 0)\n",
    "\n",
    "    # Check if the anime is in the recommended list; append 1 (recommended) or 0 (not recommended)\n",
    "    y_pred.append(1 if row['name'] in recommended_anime else 0)\n",
    "\n",
    "    # Optional: Print lengths to debug\n",
    "    if len(y_true) != len(y_pred):\n",
    "        print(f\"Length mismatch at index {index}: y_true = {len(y_true)}, y_pred = {len(y_pred)}\")\n",
    "        break"
   ]
  },
  {
   "cell_type": "code",
   "execution_count": null,
   "id": "580e38a2",
   "metadata": {
    "id": "580e38a2",
    "outputId": "47e1ec7f-ba67-4b07-ddae-b63723d14378"
   },
   "outputs": [
    {
     "name": "stdout",
     "output_type": "stream",
     "text": [
      "Final lengths: y_true = 2461, y_pred = 2460\n"
     ]
    }
   ],
   "source": [
    "# Check if the lengths match before evaluation\n",
    "print(f\"Final lengths: y_true = {len(y_true)}, y_pred = {len(y_pred)}\")"
   ]
  },
  {
   "cell_type": "code",
   "execution_count": null,
   "id": "0ef4eb85",
   "metadata": {
    "id": "0ef4eb85",
    "outputId": "5af90999-be1b-4f59-c28d-cf123c0f43e4"
   },
   "outputs": [
    {
     "name": "stdout",
     "output_type": "stream",
     "text": [
      "Error: Mismatch in the lengths of y_true and y_pred. Please check the data.\n"
     ]
    }
   ],
   "source": [
    "# Only proceed if lengths match\n",
    "if len(y_true) == len(y_pred):\n",
    "    # Calculate Precision, Recall, and F1-Score\n",
    "    precision = precision_score(y_true, y_pred)\n",
    "    recall = recall_score(y_true, y_pred)\n",
    "    f1 = f1_score(y_true, y_pred)\n",
    "\n",
    "    print(f\"Precision: {precision:.2f}\")\n",
    "    print(f\"Recall: {recall:.2f}\")\n",
    "    print(f\"F1-Score: {f1:.2f}\")\n",
    "else:\n",
    "    print(\"Error: Mismatch in the lengths of y_true and y_pred. Please check the data.\")"
   ]
  },
  {
   "cell_type": "code",
   "execution_count": null,
   "id": "f7b5d240",
   "metadata": {
    "id": "f7b5d240"
   },
   "outputs": [],
   "source": []
  }
 ],
 "metadata": {
  "colab": {
   "provenance": []
  },
  "kernelspec": {
   "display_name": "Python 3 (ipykernel)",
   "language": "python",
   "name": "python3"
  },
  "language_info": {
   "codemirror_mode": {
    "name": "ipython",
    "version": 3
   },
   "file_extension": ".py",
   "mimetype": "text/x-python",
   "name": "python",
   "nbconvert_exporter": "python",
   "pygments_lexer": "ipython3",
   "version": "3.10.9"
  }
 },
 "nbformat": 4,
 "nbformat_minor": 5
}
